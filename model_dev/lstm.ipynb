{
  "nbformat": 4,
  "nbformat_minor": 0,
  "metadata": {
    "colab": {
      "name": "lstm.ipynb",
      "provenance": [],
      "collapsed_sections": []
    },
    "kernelspec": {
      "name": "python3",
      "display_name": "Python 3"
    }
  },
  "cells": [
    {
      "cell_type": "code",
      "metadata": {
        "id": "2zROtWOPTszW",
        "colab_type": "code",
        "outputId": "b5f00bed-7b04-4b89-c73f-30a11d97b1ba",
        "colab": {
          "base_uri": "https://localhost:8080/",
          "height": 125
        }
      },
      "source": [
        "# Clone git repo\n",
        "!git clone -b dataset https://github.com/HYUristic/DynaMotion"
      ],
      "execution_count": 0,
      "outputs": [
        {
          "output_type": "stream",
          "text": [
            "Cloning into 'DynaMotion'...\n",
            "remote: Enumerating objects: 65, done.\u001b[K\n",
            "remote: Counting objects:   1% (1/65)\u001b[K\rremote: Counting objects:   3% (2/65)\u001b[K\rremote: Counting objects:   4% (3/65)\u001b[K\rremote: Counting objects:   6% (4/65)\u001b[K\rremote: Counting objects:   7% (5/65)\u001b[K\rremote: Counting objects:   9% (6/65)\u001b[K\rremote: Counting objects:  10% (7/65)\u001b[K\rremote: Counting objects:  12% (8/65)\u001b[K\rremote: Counting objects:  13% (9/65)\u001b[K\rremote: Counting objects:  15% (10/65)\u001b[K\rremote: Counting objects:  16% (11/65)\u001b[K\rremote: Counting objects:  18% (12/65)\u001b[K\rremote: Counting objects:  20% (13/65)\u001b[K\rremote: Counting objects:  21% (14/65)\u001b[K\rremote: Counting objects:  23% (15/65)\u001b[K\rremote: Counting objects:  24% (16/65)\u001b[K\rremote: Counting objects:  26% (17/65)\u001b[K\rremote: Counting objects:  27% (18/65)\u001b[K\rremote: Counting objects:  29% (19/65)\u001b[K\rremote: Counting objects:  30% (20/65)\u001b[K\rremote: Counting objects:  32% (21/65)\u001b[K\rremote: Counting objects:  33% (22/65)\u001b[K\rremote: Counting objects:  35% (23/65)\u001b[K\rremote: Counting objects:  36% (24/65)\u001b[K\rremote: Counting objects:  38% (25/65)\u001b[K\rremote: Counting objects:  40% (26/65)\u001b[K\rremote: Counting objects:  41% (27/65)\u001b[K\rremote: Counting objects:  43% (28/65)\u001b[K\rremote: Counting objects:  44% (29/65)\u001b[K\rremote: Counting objects:  46% (30/65)\u001b[K\rremote: Counting objects:  47% (31/65)\u001b[K\rremote: Counting objects:  49% (32/65)\u001b[K\rremote: Counting objects:  50% (33/65)\u001b[K\rremote: Counting objects:  52% (34/65)\u001b[K\rremote: Counting objects:  53% (35/65)\u001b[K\rremote: Counting objects:  55% (36/65)\u001b[K\rremote: Counting objects:  56% (37/65)\u001b[K\rremote: Counting objects:  58% (38/65)\u001b[K\rremote: Counting objects:  60% (39/65)\u001b[K\rremote: Counting objects:  61% (40/65)\u001b[K\rremote: Counting objects:  63% (41/65)\u001b[K\rremote: Counting objects:  64% (42/65)\u001b[K\rremote: Counting objects:  66% (43/65)\u001b[K\rremote: Counting objects:  67% (44/65)\u001b[K\rremote: Counting objects:  69% (45/65)\u001b[K\rremote: Counting objects:  70% (46/65)\u001b[K\rremote: Counting objects:  72% (47/65)\u001b[K\rremote: Counting objects:  73% (48/65)\u001b[K\rremote: Counting objects:  75% (49/65)\u001b[K\rremote: Counting objects:  76% (50/65)\u001b[K\rremote: Counting objects:  78% (51/65)\u001b[K\rremote: Counting objects:  80% (52/65)\u001b[K\rremote: Counting objects:  81% (53/65)\u001b[K\rremote: Counting objects:  83% (54/65)\u001b[K\rremote: Counting objects:  84% (55/65)\u001b[K\rremote: Counting objects:  86% (56/65)\u001b[K\rremote: Counting objects:  87% (57/65)\u001b[K\rremote: Counting objects:  89% (58/65)\u001b[K\rremote: Counting objects:  90% (59/65)\u001b[K\rremote: Counting objects:  92% (60/65)\u001b[K\rremote: Counting objects:  93% (61/65)\u001b[K\rremote: Counting objects:  95% (62/65)\u001b[K\rremote: Counting objects:  96% (63/65)\u001b[K\rremote: Counting objects:  98% (64/65)\u001b[K\rremote: Counting objects: 100% (65/65)\u001b[K\rremote: Counting objects: 100% (65/65), done.\u001b[K\n",
            "remote: Compressing objects:   2% (1/42)\u001b[K\rremote: Compressing objects:   4% (2/42)\u001b[K\rremote: Compressing objects:   7% (3/42)\u001b[K\rremote: Compressing objects:   9% (4/42)\u001b[K\rremote: Compressing objects:  11% (5/42)\u001b[K\rremote: Compressing objects:  14% (6/42)\u001b[K\rremote: Compressing objects:  16% (7/42)\u001b[K\rremote: Compressing objects:  19% (8/42)\u001b[K\rremote: Compressing objects:  21% (9/42)\u001b[K\rremote: Compressing objects:  23% (10/42)\u001b[K\rremote: Compressing objects:  26% (11/42)\u001b[K\rremote: Compressing objects:  28% (12/42)\u001b[K\rremote: Compressing objects:  30% (13/42)\u001b[K\rremote: Compressing objects:  33% (14/42)\u001b[K\rremote: Compressing objects:  35% (15/42)\u001b[K\rremote: Compressing objects:  38% (16/42)\u001b[K\rremote: Compressing objects:  40% (17/42)\u001b[K\rremote: Compressing objects:  42% (18/42)\u001b[K\rremote: Compressing objects:  45% (19/42)\u001b[K\rremote: Compressing objects:  47% (20/42)\u001b[K\rremote: Compressing objects:  50% (21/42)\u001b[K\rremote: Compressing objects:  52% (22/42)\u001b[K\rremote: Compressing objects:  54% (23/42)\u001b[K\rremote: Compressing objects:  57% (24/42)\u001b[K\rremote: Compressing objects:  59% (25/42)\u001b[K\rremote: Compressing objects:  61% (26/42)\u001b[K\rremote: Compressing objects:  64% (27/42)\u001b[K\rremote: Compressing objects:  66% (28/42)\u001b[K\rremote: Compressing objects:  69% (29/42)\u001b[K\rremote: Compressing objects:  71% (30/42)\u001b[K\rremote: Compressing objects:  73% (31/42)\u001b[K\rremote: Compressing objects:  76% (32/42)\u001b[K\rremote: Compressing objects:  78% (33/42)\u001b[K\rremote: Compressing objects:  80% (34/42)\u001b[K\rremote: Compressing objects:  83% (35/42)\u001b[K\rremote: Compressing objects:  85% (36/42)\u001b[K\rremote: Compressing objects:  88% (37/42)\u001b[K\rremote: Compressing objects:  90% (38/42)\u001b[K\rremote: Compressing objects:  92% (39/42)\u001b[K\rremote: Compressing objects:  95% (40/42)\u001b[K\rremote: Compressing objects:  97% (41/42)\u001b[K\rremote: Compressing objects: 100% (42/42)\u001b[K\rremote: Compressing objects: 100% (42/42), done.\u001b[K\n",
            "remote: Total 65 (delta 26), reused 54 (delta 18), pack-reused 0\u001b[K\n",
            "Unpacking objects:   1% (1/65)   \rUnpacking objects:   3% (2/65)   \rUnpacking objects:   4% (3/65)   \rUnpacking objects:   6% (4/65)   \rUnpacking objects:   7% (5/65)   \rUnpacking objects:   9% (6/65)   \rUnpacking objects:  10% (7/65)   \rUnpacking objects:  12% (8/65)   \rUnpacking objects:  13% (9/65)   \rUnpacking objects:  15% (10/65)   \rUnpacking objects:  16% (11/65)   \rUnpacking objects:  18% (12/65)   \rUnpacking objects:  20% (13/65)   \rUnpacking objects:  21% (14/65)   \rUnpacking objects:  23% (15/65)   \rUnpacking objects:  24% (16/65)   \rUnpacking objects:  26% (17/65)   \rUnpacking objects:  27% (18/65)   \rUnpacking objects:  29% (19/65)   \rUnpacking objects:  30% (20/65)   \rUnpacking objects:  32% (21/65)   \rUnpacking objects:  33% (22/65)   \rUnpacking objects:  35% (23/65)   \rUnpacking objects:  36% (24/65)   \rUnpacking objects:  38% (25/65)   \rUnpacking objects:  40% (26/65)   \rUnpacking objects:  41% (27/65)   \rUnpacking objects:  43% (28/65)   \rUnpacking objects:  44% (29/65)   \rUnpacking objects:  46% (30/65)   \rUnpacking objects:  47% (31/65)   \rUnpacking objects:  49% (32/65)   \rUnpacking objects:  50% (33/65)   \rUnpacking objects:  52% (34/65)   \rUnpacking objects:  53% (35/65)   \rUnpacking objects:  55% (36/65)   \rUnpacking objects:  56% (37/65)   \rUnpacking objects:  58% (38/65)   \rUnpacking objects:  60% (39/65)   \rUnpacking objects:  61% (40/65)   \rUnpacking objects:  63% (41/65)   \rUnpacking objects:  64% (42/65)   \rUnpacking objects:  66% (43/65)   \rUnpacking objects:  67% (44/65)   \rUnpacking objects:  69% (45/65)   \rUnpacking objects:  70% (46/65)   \rUnpacking objects:  72% (47/65)   \rUnpacking objects:  73% (48/65)   \rUnpacking objects:  75% (49/65)   \rUnpacking objects:  76% (50/65)   \rUnpacking objects:  78% (51/65)   \rUnpacking objects:  80% (52/65)   \rUnpacking objects:  81% (53/65)   \rUnpacking objects:  83% (54/65)   \rUnpacking objects:  84% (55/65)   \rUnpacking objects:  86% (56/65)   \rUnpacking objects:  87% (57/65)   \rUnpacking objects:  89% (58/65)   \rUnpacking objects:  90% (59/65)   \rUnpacking objects:  92% (60/65)   \rUnpacking objects:  93% (61/65)   \rUnpacking objects:  95% (62/65)   \rUnpacking objects:  96% (63/65)   \rUnpacking objects:  98% (64/65)   \rUnpacking objects: 100% (65/65)   \rUnpacking objects: 100% (65/65), done.\n"
          ],
          "name": "stdout"
        }
      ]
    },
    {
      "cell_type": "code",
      "metadata": {
        "id": "bAOlaJBDRclk",
        "colab_type": "code",
        "colab": {}
      },
      "source": [
        "import torch\n",
        "import torch.nn as nn\n",
        "import torch.nn.functional as f\n",
        "import torch.nn.init\n",
        "import torchvision.transforms as transforms\n",
        "import torchvision.datasets as dsets\n",
        "\n",
        "class lstm_Model(nn.Module):\n",
        "  def __init__(self, n_of_frames,n_of_cnn_frames, kernel_size, output_channel1, output_channel2):\n",
        "    super(lstm_Model, self).__init__()\n",
        "\n",
        "    self.n_of_frames = n_of_frames\n",
        "    self.n_of_cnn_frames = n_of_cnn_frames\n",
        "    self.kernel_size = kernel_size\n",
        "    self.output_channel1 = output_channel1\n",
        "    self.output_channel2 = output_channel2\n",
        "    self.Rw1 = n_of_cnn_frames - kernel_size + 1\n",
        "    self.Rh1 = 128 - kernel_size + 1\n",
        "    self.Rw2 = (self.Rw1//2) - kernel_size + 1\n",
        "    self.Rh2 = (self.Rh1//2) - kernel_size + 1\n",
        "    self.Rw = self.Rw2//2\n",
        "    self.Rh = self.Rh2//2\n",
        "    self.sigmoid = nn.Sigmoid()\n",
        "\n",
        "    self.layer1 = nn.Sequential(\n",
        "        nn.Conv2d(1, output_channel1, kernel_size),\n",
        "        nn.ReLU(),\n",
        "        nn.MaxPool2d(2)\n",
        "    )\n",
        "\n",
        "    self.layer2 = nn.Sequential(\n",
        "        nn.Conv2d(output_channel1, output_channel2, kernel_size),\n",
        "        nn.ReLU(),\n",
        "        nn.MaxPool2d(2)\n",
        "    )\n",
        "\n",
        "    self.layer3 = nn.LSTM(1*self.Rh*self.Rw, 128)\n",
        "\n",
        "  def forward(self, x):\n",
        "      out = self.layer1(x)\n",
        "      out = self.layer2(out)\n",
        "      out, (_, _) = self.layer3(out.view(x.size(0), 1, -1))\n",
        "      out = self.sigmoid(out)\n",
        "\n",
        "      return out\n",
        "\n",
        "  def loss(self, output, target):\n",
        "    loss = nn.MSELoss(output.view(1, -1), target)\n",
        "\n",
        "    return loss"
      ],
      "execution_count": 0,
      "outputs": []
    },
    {
      "cell_type": "code",
      "metadata": {
        "id": "giV4RNyxKbxR",
        "colab_type": "code",
        "outputId": "370e7aeb-a353-4aa3-e8b4-298af6d93bd7",
        "colab": {
          "base_uri": "https://localhost:8080/",
          "height": 306
        }
      },
      "source": [
        "model = lstm_Model(12, 128, 5, 1, 1)\n",
        "testdata = torch.zeros((1, 1,128, 128), dtype=torch.float64)\n",
        "outputs= model(testdata.float())\n",
        "outputs"
      ],
      "execution_count": 81,
      "outputs": [
        {
          "output_type": "execute_result",
          "data": {
            "text/plain": [
              "tensor([[[0.4960, 0.5026, 0.4970, 0.5024, 0.5067, 0.4991, 0.4997, 0.4975,\n",
              "          0.5043, 0.4974, 0.4997, 0.5022, 0.4953, 0.4974, 0.5064, 0.4977,\n",
              "          0.4965, 0.4994, 0.5032, 0.4914, 0.4928, 0.4968, 0.5068, 0.5001,\n",
              "          0.4980, 0.5040, 0.5080, 0.4998, 0.5064, 0.5061, 0.5032, 0.5056,\n",
              "          0.4989, 0.4987, 0.5104, 0.4972, 0.5013, 0.4961, 0.4927, 0.4963,\n",
              "          0.5025, 0.4965, 0.5032, 0.5007, 0.4984, 0.5043, 0.4985, 0.5090,\n",
              "          0.4949, 0.4926, 0.5064, 0.4935, 0.5066, 0.4929, 0.5006, 0.5028,\n",
              "          0.4995, 0.5024, 0.5009, 0.4994, 0.4958, 0.4913, 0.5034, 0.5049,\n",
              "          0.5081, 0.5007, 0.5028, 0.5009, 0.5045, 0.4988, 0.5021, 0.4975,\n",
              "          0.5041, 0.4995, 0.4972, 0.5042, 0.4995, 0.4942, 0.5002, 0.5013,\n",
              "          0.4980, 0.5001, 0.5020, 0.5082, 0.5060, 0.5021, 0.4946, 0.5037,\n",
              "          0.5043, 0.5061, 0.4939, 0.4985, 0.4921, 0.5003, 0.5001, 0.5005,\n",
              "          0.4981, 0.4983, 0.4918, 0.5026, 0.4943, 0.5032, 0.5059, 0.4975,\n",
              "          0.5014, 0.5007, 0.4987, 0.5068, 0.4997, 0.4992, 0.4960, 0.5032,\n",
              "          0.4998, 0.5085, 0.4965, 0.4984, 0.4998, 0.4937, 0.5091, 0.4969,\n",
              "          0.4980, 0.4949, 0.4924, 0.5051, 0.5028, 0.4944, 0.5084, 0.5057]]],\n",
              "       grad_fn=<SigmoidBackward>)"
            ]
          },
          "metadata": {
            "tags": []
          },
          "execution_count": 81
        }
      ]
    },
    {
      "cell_type": "code",
      "metadata": {
        "id": "aUAFGAFZNTDh",
        "colab_type": "code",
        "outputId": "fab05c82-43bc-4a60-83cb-16311f86e04a",
        "colab": {
          "base_uri": "https://localhost:8080/",
          "height": 34
        }
      },
      "source": [
        ""
      ],
      "execution_count": 0,
      "outputs": [
        {
          "output_type": "execute_result",
          "data": {
            "text/plain": [
              "1"
            ]
          },
          "metadata": {
            "tags": []
          },
          "execution_count": 13
        }
      ]
    }
  ]
}